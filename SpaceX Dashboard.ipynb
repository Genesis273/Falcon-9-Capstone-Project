{
 "cells": [
  {
   "cell_type": "code",
   "execution_count": 1,
   "id": "127bb13e",
   "metadata": {},
   "outputs": [],
   "source": [
    "#Import all Libraries needed\n",
    "import pandas as pd\n",
    "from jupyter_dash import JupyterDash\n",
    "import dash\n",
    "from dash import html, dcc\n",
    "from dash.dependencies import Input, Output, State\n",
    "import plotly.graph_objects as go\n",
    "import plotly.express as px"
   ]
  },
  {
   "cell_type": "code",
   "execution_count": 2,
   "id": "97a16435",
   "metadata": {},
   "outputs": [],
   "source": [
    "spacex_df = pd.read_csv(\"spacex_launch_dash.csv\")\n",
    "max_payload = spacex_df['Payload Mass (kg)'].max()\n",
    "min_payload = spacex_df['Payload Mass (kg)'].min()"
   ]
  },
  {
   "cell_type": "code",
   "execution_count": 3,
   "id": "41488b83",
   "metadata": {},
   "outputs": [],
   "source": [
    "# Create a dash application\n",
    "app = JupyterDash(__name__)"
   ]
  },
  {
   "cell_type": "code",
   "execution_count": 4,
   "id": "c2a42b14",
   "metadata": {},
   "outputs": [
    {
     "data": {
      "text/plain": [
       "[{'label': 'All Sites', 'value': 'All Sites'},\n",
       " {'label': 'CCAFS LC-40', 'value': 'CCAFS LC-40'},\n",
       " {'label': 'VAFB SLC-4E', 'value': 'VAFB SLC-4E'},\n",
       " {'label': 'KSC LC-39A', 'value': 'KSC LC-39A'},\n",
       " {'label': 'CCAFS SLC-40', 'value': 'CCAFS SLC-40'}]"
      ]
     },
     "execution_count": 4,
     "metadata": {},
     "output_type": "execute_result"
    }
   ],
   "source": [
    "# Begin by creating a dictionary of options of launch sites\n",
    "\n",
    "launch_sites = []\n",
    "launch_sites.append({'label': 'All Sites', 'value': 'All Sites'})\n",
    "all_launch_sites = spacex_df['Launch Site'].unique().tolist()\n",
    "\n",
    "for launch_site in all_launch_sites:\n",
    "    launch_sites.append({'label': launch_site, 'value': launch_site})\n",
    "launch_sites"
   ]
  },
  {
   "cell_type": "code",
   "execution_count": 5,
   "id": "c8429737",
   "metadata": {},
   "outputs": [
    {
     "name": "stdout",
     "output_type": "stream",
     "text": [
      "Dash is running on http://127.0.0.1:8050/\n",
      "\n",
      "Dash app running on http://127.0.0.1:8050/\n"
     ]
    }
   ],
   "source": [
    "# Create an app layout\n",
    "app.layout = html.Div(children=[html.H1('SpaceX Launch Records Dashboard',\n",
    "                                        style={'textAlign': 'center', 'color': '#503D36',\n",
    "                                               'font-size': 40}),\n",
    "                                # TASK 1: Add a dropdown list to enable Launch Site selection\n",
    "                                # The default select value is for ALL sites                                \n",
    "                                html.Div([\n",
    "                                    dcc.Dropdown(\n",
    "                                        id = 'site-dropdown',\n",
    "                                        options = launch_sites,\n",
    "                                        placeholder = 'Select a Launch Site',\n",
    "                                        searchable = True ,\n",
    "                                        clearable = False,\n",
    "                                        value = 'All Sites'\n",
    "                                        ),]),\n",
    "                                \n",
    "                                html.Br(),\n",
    "\n",
    "                                # TASK 2: Add a pie chart to show the total successful launches count for all sites\n",
    "                                # If a specific launch site was selected, show the Success vs. Failed counts for the site\n",
    "                                html.Div(dcc.Graph(id='success-pie-chart')),\n",
    "                                html.Br(),\n",
    "\n",
    "                                html.P(\"Payload range (Kg):\"),\n",
    "                                \n",
    "                                # TASK 3: Add a slider to select payload range\n",
    "                                #dcc.RangeSlider(id='payload-slider',...)\n",
    "                                html.Div([\n",
    "                                    dcc.RangeSlider(\n",
    "                                        id = 'payload_slider',\n",
    "                                        min = 0,\n",
    "                                        max = 10000,\n",
    "                                        step = 1000,\n",
    "                                        marks = {\n",
    "                                            0: {'label': '0 Kg', 'style': {'color': '#77b0b1'}},\n",
    "                                            1000: {'label': '1000 Kg'},\n",
    "                                            2000: {'label': '2000 Kg'},\n",
    "                                            3000: {'label': '3000 Kg'},\n",
    "                                            4000: {'label': '4000 Kg'},\n",
    "                                            5000: {'label': '5000 Kg'},\n",
    "                                            6000: {'label': '6000 Kg'},\n",
    "                                            7000: {'label': '7000 Kg'},\n",
    "                                            8000: {'label': '8000 Kg'},\n",
    "                                            9000: {'label': '9000 Kg'},\n",
    "                                            10000: {'label': '10000 Kg', 'style': {'color': '#f50'}},\n",
    "                                            },\n",
    "                                            value = [min_payload,max_payload]),\n",
    "                                            ]),\n",
    "\n",
    "                                # TASK 4: Add a scatter chart to show the correlation between payload and launch success\n",
    "                                html.Div(dcc.Graph(id='success-payload-scatter-chart')),\n",
    "                                ])\n",
    "\n",
    "# TASK 2:\n",
    "# Add a callback function for `site-dropdown` as input, `success-pie-chart` as output\n",
    "@app.callback(\n",
    "     Output(component_id = 'success-pie-chart', component_property = 'figure'),\n",
    "     [Input(component_id = 'site-dropdown', component_property = 'value')]\n",
    ")\n",
    "def update_piegraph(site_dropdown):\n",
    "    if (site_dropdown == 'All Sites' or site_dropdown == 'None'):\n",
    "        data  = spacex_df[spacex_df['class'] == 1] \n",
    "        fig = px.pie(\n",
    "                data,\n",
    "                names = 'Launch Site',\n",
    "                title = 'Total Success Launches by All Sites',\n",
    "            )\n",
    "    else:\n",
    "        data  = spacex_df.loc[spacex_df['Launch Site'] == site_dropdown]\n",
    "        fig = px.pie(\n",
    "                data,\n",
    "                names = 'class',\n",
    "                title = 'Total Success Launches for Site &#8608; '+site_dropdown,\n",
    "            )\n",
    "    return fig\n",
    "\n",
    "# TASK 4:\n",
    "# Add a callback function for `site-dropdown` and `payload-slider` as inputs, `success-payload-scatter-chart` as output\n",
    "@app.callback(\n",
    "     Output(component_id = 'success-payload-scatter-chart', component_property = 'figure'),\n",
    "     [Input(component_id = 'site-dropdown', component_property = 'value'), \n",
    "     Input(component_id = \"payload_slider\", component_property = \"value\")]\n",
    ")\n",
    "def update_scattergraph(site_dropdown,payload_slider):\n",
    "    if (site_dropdown == 'All Sites' or site_dropdown == 'None'):\n",
    "        low, high = payload_slider\n",
    "        data  = spacex_df\n",
    "        inrange = (data['Payload Mass (kg)'] > low) & (data['Payload Mass (kg)'] < high)\n",
    "        fig = px.scatter(\n",
    "                data[inrange], \n",
    "                x = \"Payload Mass (kg)\", \n",
    "                y = \"class\",\n",
    "                title = 'Correlation Between Payload and Success for All Sites',\n",
    "                color=\"Booster Version Category\",\n",
    "                size='Payload Mass (kg)',\n",
    "                hover_data=['Payload Mass (kg)']\n",
    "            )\n",
    "    else:\n",
    "        low, high = payload_slider\n",
    "        data  = spacex_df.loc[spacex_df['Launch Site'] == site_dropdown]\n",
    "        inrange = (data['Payload Mass (kg)'] > low) & (data['Payload Mass (kg)'] < high)\n",
    "        fig = px.scatter(\n",
    "                data[inrange],\n",
    "                x = \"Payload Mass (kg)\",\n",
    "                y = \"class\",\n",
    "                title = 'Correlation Between Payload and Success for Site &#8608; '+site_dropdown,\n",
    "                color=\"Booster Version Category\",\n",
    "                size='Payload Mass (kg)',\n",
    "                hover_data=['Payload Mass (kg)']\n",
    "            )\n",
    "    return fig\n",
    "\n",
    "# Run the app\n",
    "if __name__ == '__main__':\n",
    "    app.run_server()\n"
   ]
  },
  {
   "cell_type": "code",
   "execution_count": null,
   "id": "cc99527c",
   "metadata": {},
   "outputs": [],
   "source": []
  },
  {
   "cell_type": "code",
   "execution_count": null,
   "id": "cc286d33",
   "metadata": {},
   "outputs": [],
   "source": []
  }
 ],
 "metadata": {
  "kernelspec": {
   "display_name": "Python 3 (ipykernel)",
   "language": "python",
   "name": "python3"
  },
  "language_info": {
   "codemirror_mode": {
    "name": "ipython",
    "version": 3
   },
   "file_extension": ".py",
   "mimetype": "text/x-python",
   "name": "python",
   "nbconvert_exporter": "python",
   "pygments_lexer": "ipython3",
   "version": "3.8.16"
  }
 },
 "nbformat": 4,
 "nbformat_minor": 5
}
